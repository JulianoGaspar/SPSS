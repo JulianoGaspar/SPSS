{
  "nbformat": 4,
  "nbformat_minor": 0,
  "metadata": {
    "colab": {
      "name": "IADS-01b.ipynb",
      "provenance": [],
      "collapsed_sections": []
    },
    "kernelspec": {
      "name": "python3",
      "display_name": "Python 3"
    },
    "language_info": {
      "name": "python"
    }
  },
  "cells": [
    {
      "cell_type": "code",
      "execution_count": null,
      "metadata": {
        "colab": {
          "base_uri": "https://localhost:8080/"
        },
        "id": "UW8iFS5jOIm8",
        "outputId": "ee1c9de1-9ea3-47df-a10f-102111353302"
      },
      "outputs": [
        {
          "output_type": "stream",
          "name": "stdout",
          "text": [
            "Olá Mundo!\n"
          ]
        }
      ],
      "source": [
        "print('Olá Mundo!')"
      ]
    },
    {
      "cell_type": "code",
      "source": [
        "# importar a biblioteca do Pandas para trabalhar com base de dados\n"
      ],
      "metadata": {
        "id": "MB-IztkPQ4xa"
      },
      "execution_count": null,
      "outputs": []
    },
    {
      "cell_type": "code",
      "source": [
        "# criar uma variável para salvar o caminho do arquivo\n"
      ],
      "metadata": {
        "id": "4ShD1WQLTdnG"
      },
      "execution_count": null,
      "outputs": []
    },
    {
      "cell_type": "code",
      "source": [
        ""
      ],
      "metadata": {
        "id": "hSrHuTzkTvTi"
      },
      "execution_count": null,
      "outputs": []
    },
    {
      "cell_type": "code",
      "source": [
        ""
      ],
      "metadata": {
        "id": "0wsFhziVWnCs"
      },
      "execution_count": null,
      "outputs": []
    },
    {
      "cell_type": "code",
      "source": [
        "# Resumo descritivo das colunas numéricas \n",
        "# Observação: que o Python entendeu como númerica na importação\n"
      ],
      "metadata": {
        "id": "P-MQCq8WXn8U"
      },
      "execution_count": null,
      "outputs": []
    },
    {
      "cell_type": "code",
      "source": [
        "# Contando a quantidade de casos por categoria de uma variável\n",
        "# Já se sabe pela documentação da Base de dados que:\n",
        "# 1 = partos vaginais\n",
        "# 2 = partos cesáreos\n"
      ],
      "metadata": {
        "id": "GjR97mSmYZgO"
      },
      "execution_count": null,
      "outputs": []
    },
    {
      "cell_type": "code",
      "source": [
        "# Contando a quantidade de casos por categoria de uma variável\n",
        "# Já se sabe pela documentação da Base de dados que:\n",
        "# 0 = missing (não preenchido)\n",
        "# 1 = masculino\n",
        "# 2 = feminino\n",
        "# 3 = indeterminado\n"
      ],
      "metadata": {
        "id": "koU1UvNxZOyr"
      },
      "execution_count": null,
      "outputs": []
    },
    {
      "cell_type": "code",
      "source": [
        "# Contando a quantidade de casos por categoria de uma variável\n",
        "# Já se sabe pela documentação da Base de dados que:\n",
        "\n",
        "# sim\n",
        "# não\n",
        "\n"
      ],
      "metadata": {
        "id": "b9yyBivCZ-hS"
      },
      "execution_count": null,
      "outputs": []
    },
    {
      "cell_type": "code",
      "source": [
        "# APGAR deveria ser de 0 a 10\n"
      ],
      "metadata": {
        "id": "Pa_CWp76ay7k"
      },
      "execution_count": null,
      "outputs": []
    },
    {
      "cell_type": "code",
      "source": [
        "# VIVO deveria ser:\n",
        "# 0 = nascido morto\n",
        "# 1 = nascido vivo\n",
        "\n"
      ],
      "metadata": {
        "id": "NPQhDaWeaziL"
      },
      "execution_count": null,
      "outputs": []
    },
    {
      "cell_type": "code",
      "source": [
        "# Contando a quantidade de casos\n"
      ],
      "metadata": {
        "id": "5A408YfEctP1"
      },
      "execution_count": null,
      "outputs": []
    },
    {
      "cell_type": "code",
      "source": [
        "# Mostrando um gráfico com a quantidade de casos\n"
      ],
      "metadata": {
        "id": "d3z9XRdkc6FY"
      },
      "execution_count": null,
      "outputs": []
    },
    {
      "cell_type": "code",
      "source": [
        "# Filtrar casos por algum valor ou categoria\n"
      ],
      "metadata": {
        "id": "MZ-e7jWvz0yj"
      },
      "execution_count": null,
      "outputs": []
    },
    {
      "cell_type": "code",
      "source": [
        ""
      ],
      "metadata": {
        "id": "NpMcHKOV0WbD"
      },
      "execution_count": null,
      "outputs": []
    },
    {
      "cell_type": "code",
      "source": [
        "# Filtrar casos por algum valor ou categoria\n",
        "# criar outra variavel com os registros de prematuros\n",
        "\n"
      ],
      "metadata": {
        "id": "i_ju_2PY0xYe"
      },
      "execution_count": null,
      "outputs": []
    },
    {
      "cell_type": "code",
      "source": [
        "# mostrar o histograma da Idade\n"
      ],
      "metadata": {
        "id": "QRSjMF9h6Icq"
      },
      "execution_count": null,
      "outputs": []
    },
    {
      "cell_type": "code",
      "source": [
        "# mostrar o histograma da Idade\n"
      ],
      "metadata": {
        "id": "n_GnUF4X6SKK"
      },
      "execution_count": null,
      "outputs": []
    },
    {
      "cell_type": "code",
      "source": [
        "# mostrar as categorias (valores na variáveis)  por coluna\n"
      ],
      "metadata": {
        "id": "1HAi8Whg0-5S"
      },
      "execution_count": null,
      "outputs": []
    },
    {
      "cell_type": "code",
      "source": [
        "# Quantidade por alto risco\n"
      ],
      "metadata": {
        "id": "95782w9_2MnF"
      },
      "execution_count": null,
      "outputs": []
    },
    {
      "cell_type": "code",
      "source": [
        "# Corrigindo o conteúdo de ALTO_RISCO\n"
      ],
      "metadata": {
        "id": "aDSfNygZ98TR"
      },
      "execution_count": null,
      "outputs": []
    },
    {
      "cell_type": "code",
      "source": [
        "# mostrar as categorias (valores na variáveis)  por coluna\n"
      ],
      "metadata": {
        "id": "LXJaJgY--QIt"
      },
      "execution_count": null,
      "outputs": []
    },
    {
      "cell_type": "code",
      "source": [
        "# Quantidade por alto risco\n"
      ],
      "metadata": {
        "id": "JRPH-wKN-SHK"
      },
      "execution_count": null,
      "outputs": []
    },
    {
      "cell_type": "code",
      "source": [
        "#  criando um gráfico de pizza  ***************\n",
        "\n",
        "\n",
        "# mostrar as categorias \n",
        "\n",
        "\n",
        "# Quantidade por alto risco\n"
      ],
      "metadata": {
        "id": "Q0J_yDAA5gsa"
      },
      "execution_count": null,
      "outputs": []
    },
    {
      "cell_type": "code",
      "source": [
        "#  criando um gráfico de pizza  ***************\n",
        "\n",
        "\n",
        "# mostrar as categorias \n",
        "\n",
        "\n",
        "# Quantidade por alto risco\n",
        "# normalize = true ==> passa usar a frequencia relativa %\n"
      ],
      "metadata": {
        "id": "pVQv-Vfp8A-w"
      },
      "execution_count": null,
      "outputs": []
    },
    {
      "cell_type": "code",
      "source": [
        "# mostrar as categorias (valores na variáveis)  por coluna\n"
      ],
      "metadata": {
        "id": "BlX_hJif_EsP"
      },
      "execution_count": null,
      "outputs": []
    },
    {
      "cell_type": "code",
      "source": [
        "# Corrigindo o conteúdo de SEXO\n"
      ],
      "metadata": {
        "id": "MK7O2Xn0-vzv"
      },
      "execution_count": null,
      "outputs": []
    },
    {
      "cell_type": "code",
      "source": [
        "# mostrar as categorias (valores na variáveis)  por coluna\n"
      ],
      "metadata": {
        "id": "EkFc5pUJ_KCP"
      },
      "execution_count": null,
      "outputs": []
    },
    {
      "cell_type": "code",
      "source": [
        "# mostrar as categorias \n",
        "\n",
        "\n",
        "# Quantidade por alto risco\n",
        "# normalize = true ==> passa usar a frequencia relativa %\n"
      ],
      "metadata": {
        "id": "gshDu-DS74d_"
      },
      "execution_count": null,
      "outputs": []
    },
    {
      "cell_type": "code",
      "source": [
        "# Filtrar sexo 1 e 2\n"
      ],
      "metadata": {
        "id": "8HMlAi48BJkD"
      },
      "execution_count": null,
      "outputs": []
    },
    {
      "cell_type": "code",
      "source": [
        "# mostrar as categorias \n",
        "\n",
        "\n",
        "# Quantidade por alto risco\n",
        "# normalize = true ==> passa usar a frequencia relativa %\n"
      ],
      "metadata": {
        "id": "Dqr7f3uMBQsU"
      },
      "execution_count": null,
      "outputs": []
    },
    {
      "cell_type": "code",
      "source": [
        "# Tabelas cruzadas - valores absolutos\n"
      ],
      "metadata": {
        "id": "e1YJ5CCiEzyG"
      },
      "execution_count": null,
      "outputs": []
    },
    {
      "cell_type": "code",
      "source": [
        "# Tabelas cruzadas - valores relativos %\n"
      ],
      "metadata": {
        "id": "dpYKOka5F0Xn"
      },
      "execution_count": null,
      "outputs": []
    }
  ]
}